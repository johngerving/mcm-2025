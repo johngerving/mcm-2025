{
 "cells": [
  {
   "cell_type": "code",
   "execution_count": null,
   "id": "204ed80b-7c4a-4f58-8842-5f2ddaab1fe2",
   "metadata": {},
   "outputs": [],
   "source": [
    "import numpy as np\n",
    "import pandas as pd\n",
    "import matplotlib.pyplot as plt\n",
    "from sklearn.linear_model import LinearRegression\n",
    "import sklearn.metrics\n",
    "import pytorch"
   ]
  },
  {
   "cell_type": "code",
   "execution_count": null,
   "id": "db146368-8c6a-4a46-8d31-19262532c20b",
   "metadata": {},
   "outputs": [],
   "source": [
    "pd.set_option('display.max_rows', 100)\n",
    "pd.set_option('display.max_columns', 100)\n",
    "pd.set_option('display.expand_frame_repr', True)"
   ]
  },
  {
   "cell_type": "code",
   "execution_count": null,
   "id": "a0522157-1225-46c0-93db-a3a0365552a5",
   "metadata": {},
   "outputs": [],
   "source": [
    "pd.reset_option('display.max_rows')\n",
    "pd.reset_option('display.max_columns')"
   ]
  },
  {
   "cell_type": "code",
   "execution_count": null,
   "id": "fa1ac7d7-3330-4ab4-bee4-124a6dd7873d",
   "metadata": {},
   "outputs": [],
   "source": [
    "athletes = pd.read_csv('data/summerOly_athletes.csv')\n",
    "hosts = pd.read_csv('data/summerOly_hosts.csv')\n",
    "medal_counts = pd.read_csv('data/summerOly_medal_counts.csv', encoding='utf-8')\n",
    "medal_counts = medal_counts.apply(lambda x: x.str.strip() if x.dtype == \"object\" else x)\n",
    "programs = pd.read_csv('data/summerOly_programs.csv', encoding='utf-8')\n",
    "full_medal = pd.read_csv('data/full_medal_data.csv')\n",
    "LA_events = pd.read_csv('data/LA25_events.csv')"
   ]
  }
 ],
 "metadata": {
  "kernelspec": {
   "display_name": "Python 3 (ipykernel)",
   "language": "python",
   "name": "python3"
  },
  "language_info": {
   "codemirror_mode": {
    "name": "ipython",
    "version": 3
   },
   "file_extension": ".py",
   "mimetype": "text/x-python",
   "name": "python",
   "nbconvert_exporter": "python",
   "pygments_lexer": "ipython3",
   "version": "3.11.8"
  }
 },
 "nbformat": 4,
 "nbformat_minor": 5
}
